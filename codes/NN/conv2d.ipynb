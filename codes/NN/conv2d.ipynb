{
 "cells": [
  {
   "cell_type": "code",
   "execution_count": 1,
   "metadata": {},
   "outputs": [
    {
     "ename": "ModuleNotFoundError",
     "evalue": "No module named 'scipy'",
     "output_type": "error",
     "traceback": [
      "\u001b[0;31m---------------------------------------------------------------------------\u001b[0m",
      "\u001b[0;31mModuleNotFoundError\u001b[0m                       Traceback (most recent call last)",
      "\u001b[0;32m/var/folders/y4/c04ddf650bqb5ny54vv_0hrc0000gr/T/ipykernel_79902/2181869882.py\u001b[0m in \u001b[0;36m<module>\u001b[0;34m\u001b[0m\n\u001b[1;32m      3\u001b[0m \u001b[0;32mimport\u001b[0m \u001b[0mnumpy\u001b[0m \u001b[0;32mas\u001b[0m \u001b[0mnp\u001b[0m\u001b[0;34m\u001b[0m\u001b[0;34m\u001b[0m\u001b[0m\n\u001b[1;32m      4\u001b[0m \u001b[0;32mfrom\u001b[0m \u001b[0mnumpy\u001b[0m\u001b[0;34m.\u001b[0m\u001b[0mfft\u001b[0m  \u001b[0;32mimport\u001b[0m \u001b[0mfft2\u001b[0m\u001b[0;34m,\u001b[0m \u001b[0mifft2\u001b[0m\u001b[0;34m\u001b[0m\u001b[0;34m\u001b[0m\u001b[0m\n\u001b[0;32m----> 5\u001b[0;31m \u001b[0;32mfrom\u001b[0m \u001b[0mscipy\u001b[0m\u001b[0;34m.\u001b[0m\u001b[0msignal\u001b[0m \u001b[0;32mimport\u001b[0m \u001b[0mconvolve2d\u001b[0m\u001b[0;34m\u001b[0m\u001b[0;34m\u001b[0m\u001b[0m\n\u001b[0m\u001b[1;32m      6\u001b[0m \u001b[0;32mimport\u001b[0m \u001b[0mcopy\u001b[0m\u001b[0;34m\u001b[0m\u001b[0;34m\u001b[0m\u001b[0m\n",
      "\u001b[0;31mModuleNotFoundError\u001b[0m: No module named 'scipy'"
     ]
    }
   ],
   "source": [
    "import time\n",
    "import math\n",
    "import numpy as np\n",
    "from numpy.fft  import fft2, ifft2\n",
    "from scipy.signal import convolve2d\n",
    "import copy"
   ]
  },
  {
   "cell_type": "markdown",
   "metadata": {},
   "source": [
    "# Data Generation"
   ]
  },
  {
   "cell_type": "code",
   "execution_count": null,
   "metadata": {},
   "outputs": [],
   "source": [
    "rows = 7\n",
    "cols = 7\n",
    "mu, sigma = 0, math.sqrt(2.0 / (rows * cols))\n",
    "\n",
    "k_size = 3\n",
    "\n",
    "filter2d = np.random.normal(mu, sigma, size=(k_size, k_size))\n",
    "\n",
    "image = np.random.randint(255, size=(rows, cols))\n",
    "\n",
    "print(\"filter = \", filter2d)\n",
    "print(\"image = \", image)"
   ]
  },
  {
   "cell_type": "markdown",
   "metadata": {},
   "source": [
    "## Scipy Convolution\n",
    "\n",
    "Automatically chooses direct or Fourier method based on an estimate\n",
    "of which is faster (default)"
   ]
  },
  {
   "cell_type": "code",
   "execution_count": 3,
   "metadata": {},
   "outputs": [
    {
     "name": "stdout",
     "output_type": "stream",
     "text": [
      "Finish in 2.18 ms\n",
      "scipy_res =  [[ 5.32239756e+00  6.49507128e+01  8.94801102e+00  7.67186531e+00\n",
      "   5.68200130e+01  2.48846475e+01  5.98956030e+00]\n",
      " [-1.24454946e+02 -1.02321812e+01  3.48104502e+01 -2.53498174e+01\n",
      "   4.72468217e+01 -1.21230429e-02  2.33183678e+01]\n",
      " [-5.06083010e+01  4.88971560e+01  1.83989672e+01  1.16668918e+01\n",
      "   2.89996472e+01 -1.99189368e+01 -7.71799774e+00]\n",
      " [-9.41587933e+01  7.82884750e+01  1.69218376e+01 -9.54208021e+01\n",
      "  -1.34210287e+01  5.23885306e+01  6.37391949e+01]\n",
      " [-9.37877590e+01  2.52177706e+01  7.71227132e+01  3.40074012e+01\n",
      "   9.56322194e+00  3.92128294e+01  8.12080262e+01]\n",
      " [-3.18298340e+01  8.16099687e+01 -1.83148316e+01 -7.81326817e+01\n",
      "  -3.88042629e+01  2.09856588e+01  4.73201655e+01]\n",
      " [-4.52069647e+01  4.47537477e+01  1.14086184e+02  1.08003650e+02\n",
      "   7.56363751e+01  5.86799526e+01  1.00651211e+02]]\n"
     ]
    }
   ],
   "source": [
    "start = time.time()\n",
    "img = copy.deepcopy(image)\n",
    "scipy_res = convolve2d(img, filter2d, mode='same', boundary='fill', fillvalue=0)\n",
    "end = time.time()\n",
    "print(\"Finish in %.2f ms\" % ((end - start)*1000))\n",
    "print(\"scipy_res = \", scipy_res)"
   ]
  },
  {
   "cell_type": "markdown",
   "metadata": {},
   "source": [
    "## My implementation 1"
   ]
  },
  {
   "cell_type": "code",
   "execution_count": 5,
   "metadata": {},
   "outputs": [
    {
     "name": "stdout",
     "output_type": "stream",
     "text": [
      "Finish in 2.13 ms\n",
      "my_res =  [[ 5.32239756e+00  6.49507128e+01  8.94801102e+00  7.67186531e+00\n",
      "   5.68200130e+01  2.48846475e+01  5.98956030e+00]\n",
      " [-1.24454946e+02 -1.02321812e+01  3.48104502e+01 -2.53498174e+01\n",
      "   4.72468217e+01 -1.21230429e-02  2.33183678e+01]\n",
      " [-5.06083010e+01  4.88971560e+01  1.83989672e+01  1.16668918e+01\n",
      "   2.89996472e+01 -1.99189368e+01 -7.71799774e+00]\n",
      " [-9.41587933e+01  7.82884750e+01  1.69218376e+01 -9.54208021e+01\n",
      "  -1.34210287e+01  5.23885306e+01  6.37391949e+01]\n",
      " [-9.37877590e+01  2.52177706e+01  7.71227132e+01  3.40074012e+01\n",
      "   9.56322194e+00  3.92128294e+01  8.12080262e+01]\n",
      " [-3.18298340e+01  8.16099687e+01 -1.83148316e+01 -7.81326817e+01\n",
      "  -3.88042629e+01  2.09856588e+01  4.73201655e+01]\n",
      " [-4.52069647e+01  4.47537477e+01  1.14086184e+02  1.08003650e+02\n",
      "   7.56363751e+01  5.86799526e+01  1.00651211e+02]]\n"
     ]
    }
   ],
   "source": [
    "def conv2d(x, f):\n",
    "    r, c = x.shape\n",
    "    kr, kc = f.shape\n",
    "    res = np.zeros(x.shape)\n",
    "    for i in range(r):\n",
    "        for j in range(c):\n",
    "            # (i, j) is the center position of filter\n",
    "            for ki in range(-int(kr / 2), int(kr / 2) + 1, 1):\n",
    "                for kj in range(-int(kc / 2), int(kc / 2) + 1, 1):\n",
    "                    m = i - ki\n",
    "                    n = j - kj\n",
    "                    #print(ki, kj, i, j)\n",
    "                    if m >= 0 and m < r and n >= 0 and n < c:\n",
    "                        res[i, j] += x[m, n] * f[ki + int(kr / 2), kj + int(kc / 2)]\n",
    "    return res\n",
    "start = time.time()\n",
    "img = copy.deepcopy(image)\n",
    "res = conv2d(img, filter2d)\n",
    "assert np.all((res - scipy_res) < 1e-8)\n",
    "end = time.time()\n",
    "print(\"Finish in %.2f ms\" % ((end - start)*1000))\n",
    "print(\"my_res = \", res)"
   ]
  },
  {
   "cell_type": "markdown",
   "metadata": {},
   "source": [
    "## My implementation 2"
   ]
  },
  {
   "cell_type": "code",
   "execution_count": 4,
   "metadata": {},
   "outputs": [
    {
     "name": "stdout",
     "output_type": "stream",
     "text": [
      "Finish in 1.98 ms\n",
      "my_res =  [[ 5.32239756e+00  6.49507128e+01  8.94801102e+00  7.67186531e+00\n",
      "   5.68200130e+01  2.48846475e+01  5.98956030e+00]\n",
      " [-1.24454946e+02 -1.02321812e+01  3.48104502e+01 -2.53498174e+01\n",
      "   4.72468217e+01 -1.21230429e-02  2.33183678e+01]\n",
      " [-5.06083010e+01  4.88971560e+01  1.83989672e+01  1.16668918e+01\n",
      "   2.89996472e+01 -1.99189368e+01 -7.71799774e+00]\n",
      " [-9.41587933e+01  7.82884750e+01  1.69218376e+01 -9.54208021e+01\n",
      "  -1.34210287e+01  5.23885306e+01  6.37391949e+01]\n",
      " [-9.37877590e+01  2.52177706e+01  7.71227132e+01  3.40074012e+01\n",
      "   9.56322194e+00  3.92128294e+01  8.12080262e+01]\n",
      " [-3.18298340e+01  8.16099687e+01 -1.83148316e+01 -7.81326817e+01\n",
      "  -3.88042629e+01  2.09856588e+01  4.73201655e+01]\n",
      " [-4.52069647e+01  4.47537477e+01  1.14086184e+02  1.08003650e+02\n",
      "   7.56363751e+01  5.86799526e+01  1.00651211e+02]]\n"
     ]
    }
   ],
   "source": [
    "def conv2d(x, f):\n",
    "    r, c = x.shape\n",
    "    kr, kc = f.shape\n",
    "    res = np.zeros(x.shape)\n",
    "    for i in range(r):\n",
    "        for j in range(c):\n",
    "            for mm in range(kr-1, -1, -1):\n",
    "                for nn in range(kc-1, -1, -1):\n",
    "                    ii = i + kr//2 - mm\n",
    "                    jj = j + kc//2 - nn\n",
    "                    if 0 <= ii < r and 0 <= jj < c:\n",
    "                        res[i][j] += x[ii][jj] * f[mm][nn]\n",
    "    return res\n",
    "start = time.time()\n",
    "img = copy.deepcopy(image)\n",
    "res = conv2d(img, filter2d)\n",
    "assert np.all((res - scipy_res) < 1e-8)\n",
    "end = time.time()\n",
    "print(\"Finish in %.2f ms\" % ((end - start)*1000))\n",
    "print(\"my_res = \", res)"
   ]
  },
  {
   "cell_type": "markdown",
   "metadata": {},
   "source": [
    "## FFT convolution"
   ]
  },
  {
   "cell_type": "code",
   "execution_count": 6,
   "metadata": {},
   "outputs": [
    {
     "name": "stdout",
     "output_type": "stream",
     "text": [
      "Finish in 71.70 ms\n",
      "fft_res =  [[ 5.32239756e+00  6.49507128e+01  8.94801102e+00  7.67186531e+00\n",
      "   5.68200130e+01  2.48846475e+01  5.98956030e+00]\n",
      " [-1.24454946e+02 -1.02321812e+01  3.48104502e+01 -2.53498174e+01\n",
      "   4.72468217e+01 -1.21230429e-02  2.33183678e+01]\n",
      " [-5.06083010e+01  4.88971560e+01  1.83989672e+01  1.16668918e+01\n",
      "   2.89996472e+01 -1.99189368e+01 -7.71799774e+00]\n",
      " [-9.41587933e+01  7.82884750e+01  1.69218376e+01 -9.54208021e+01\n",
      "  -1.34210287e+01  5.23885306e+01  6.37391949e+01]\n",
      " [-9.37877590e+01  2.52177706e+01  7.71227132e+01  3.40074012e+01\n",
      "   9.56322194e+00  3.92128294e+01  8.12080262e+01]\n",
      " [-3.18298340e+01  8.16099687e+01 -1.83148316e+01 -7.81326817e+01\n",
      "  -3.88042629e+01  2.09856588e+01  4.73201655e+01]\n",
      " [-4.52069647e+01  4.47537477e+01  1.14086184e+02  1.08003650e+02\n",
      "   7.56363751e+01  5.86799526e+01  1.00651211e+02]]\n"
     ]
    },
    {
     "name": "stderr",
     "output_type": "stream",
     "text": [
      "/usr/local/anaconda3/lib/python3.7/site-packages/mkl_fft/_numpy_fft.py:676: FutureWarning: Using a non-tuple sequence for multidimensional indexing is deprecated; use `arr[tuple(seq)]` instead of `arr[seq]`. In the future this will be interpreted as an array index, `arr[np.array(seq)]`, which will result either in an error or a different result.\n",
      "  output = mkl_fft.fftn(a, s, axes)\n"
     ]
    }
   ],
   "source": [
    "from numpy.fft  import fft2, ifft2\n",
    "def np_fftconvolve(A, B):\n",
    "    return np.real(ifft2(fft2(A)*fft2(B, s=A.shape)))\n",
    "start = time.time()\n",
    "img = copy.deepcopy(image)\n",
    "fft_res = np_fftconvolve(img, filter2d)\n",
    "assert np.all((res - scipy_res) < 1e-8)\n",
    "end = time.time()\n",
    "print(\"Finish in %.2f ms\" % ((end - start)*1000))\n",
    "print(\"fft_res = \", res)"
   ]
  }
 ],
 "metadata": {
  "kernelspec": {
   "display_name": "Python 3 (ipykernel)",
   "language": "python",
   "name": "python3"
  },
  "language_info": {
   "codemirror_mode": {
    "name": "ipython",
    "version": 3
   },
   "file_extension": ".py",
   "mimetype": "text/x-python",
   "name": "python",
   "nbconvert_exporter": "python",
   "pygments_lexer": "ipython3",
   "version": "3.8.2"
  }
 },
 "nbformat": 4,
 "nbformat_minor": 2
}
